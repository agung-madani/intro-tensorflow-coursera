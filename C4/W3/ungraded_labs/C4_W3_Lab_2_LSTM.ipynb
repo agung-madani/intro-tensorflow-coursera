{
  "cells": [
    {
      "cell_type": "markdown",
      "metadata": {
        "id": "6PRjA3YQu_EC"
      },
      "source": [
        "<a href=\"https://colab.research.google.com/github/https-deeplearning-ai/tensorflow-1-public/blob/main/C4/W3/ungraded_labs/C4_W3_Lab_2_LSTM.ipynb\" target=\"_parent\"><img src=\"https://colab.research.google.com/assets/colab-badge.svg\" alt=\"Open In Colab\"/></a>"
      ]
    },
    {
      "cell_type": "markdown",
      "metadata": {
        "id": "sV_nvXSQGJPK"
      },
      "source": [
        "# Ungraded Lab: Using a multi-layer LSTM for forecasting\n",
        "\n",
        "In this lab, you will use the same RNN architecure in the first lab but will instead stack [LSTM](https://www.tensorflow.org/api_docs/python/tf/keras/layers/LSTM) layers instead of `SimpleRNN`."
      ]
    },
    {
      "cell_type": "markdown",
      "metadata": {
        "id": "3IMbAWETGOWD"
      },
      "source": [
        "## Imports"
      ]
    },
    {
      "cell_type": "code",
      "execution_count": 1,
      "metadata": {
        "id": "BOjujz601HcS"
      },
      "outputs": [],
      "source": [
        "import tensorflow as tf\n",
        "import numpy as np\n",
        "import matplotlib.pyplot as plt"
      ]
    },
    {
      "cell_type": "markdown",
      "metadata": {
        "id": "kD7RQQ0xGQVH"
      },
      "source": [
        "## Utilities"
      ]
    },
    {
      "cell_type": "code",
      "execution_count": 2,
      "metadata": {
        "id": "Zswl7jRtGzkk"
      },
      "outputs": [],
      "source": [
        "def plot_series(time, series, format=\"-\", start=0, end=None):\n",
        "    \"\"\"\n",
        "    Visualizes time series data\n",
        "\n",
        "    Args:\n",
        "      time (array of int) - contains the time steps\n",
        "      series (array of int) - contains the measurements for each time step\n",
        "      format - line style when plotting the graph\n",
        "      start - first time step to plot\n",
        "      end - last time step to plot\n",
        "    \"\"\"\n",
        "\n",
        "    # Setup dimensions of the graph figure\n",
        "    plt.figure(figsize=(10, 6))\n",
        "    \n",
        "    if type(series) is tuple:\n",
        "\n",
        "      for series_num in series:\n",
        "        # Plot the time series data\n",
        "        plt.plot(time[start:end], series_num[start:end], format)\n",
        "\n",
        "    else:\n",
        "      # Plot the time series data\n",
        "      plt.plot(time[start:end], series[start:end], format)\n",
        "\n",
        "    # Label the x-axis\n",
        "    plt.xlabel(\"Time\")\n",
        "\n",
        "    # Label the y-axis\n",
        "    plt.ylabel(\"Value\")\n",
        "\n",
        "    # Overlay a grid on the graph\n",
        "    plt.grid(True)\n",
        "\n",
        "    # Draw the graph on screen\n",
        "    plt.show()\n",
        "\n",
        "def trend(time, slope=0):\n",
        "    \"\"\"\n",
        "    Generates synthetic data that follows a straight line given a slope value.\n",
        "\n",
        "    Args:\n",
        "      time (array of int) - contains the time steps\n",
        "      slope (float) - determines the direction and steepness of the line\n",
        "\n",
        "    Returns:\n",
        "      series (array of float) - measurements that follow a straight line\n",
        "    \"\"\"\n",
        "\n",
        "    # Compute the linear series given the slope\n",
        "    series = slope * time\n",
        "\n",
        "    return series\n",
        "\n",
        "def seasonal_pattern(season_time):\n",
        "    \"\"\"\n",
        "    Just an arbitrary pattern, you can change it if you wish\n",
        "    \n",
        "    Args:\n",
        "      season_time (array of float) - contains the measurements per time step\n",
        "\n",
        "    Returns:\n",
        "      data_pattern (array of float) -  contains revised measurement values according \n",
        "                                  to the defined pattern\n",
        "    \"\"\"\n",
        "\n",
        "    # Generate the values using an arbitrary pattern\n",
        "    data_pattern = np.where(season_time < 0.4,\n",
        "                    np.cos(season_time * 2 * np.pi),\n",
        "                    1 / np.exp(3 * season_time))\n",
        "    \n",
        "    return data_pattern\n",
        "\n",
        "def seasonality(time, period, amplitude=1, phase=0):\n",
        "    \"\"\"\n",
        "    Repeats the same pattern at each period\n",
        "\n",
        "    Args:\n",
        "      time (array of int) - contains the time steps\n",
        "      period (int) - number of time steps before the pattern repeats\n",
        "      amplitude (int) - peak measured value in a period\n",
        "      phase (int) - number of time steps to shift the measured values\n",
        "\n",
        "    Returns:\n",
        "      data_pattern (array of float) - seasonal data scaled by the defined amplitude\n",
        "    \"\"\"\n",
        "    \n",
        "    # Define the measured values per period\n",
        "    season_time = ((time + phase) % period) / period\n",
        "\n",
        "    # Generates the seasonal data scaled by the defined amplitude\n",
        "    data_pattern = amplitude * seasonal_pattern(season_time)\n",
        "\n",
        "    return data_pattern\n",
        "\n",
        "def noise(time, noise_level=1, seed=None):\n",
        "    \"\"\"Generates a normally distributed noisy signal\n",
        "\n",
        "    Args:\n",
        "      time (array of int) - contains the time steps\n",
        "      noise_level (float) - scaling factor for the generated signal\n",
        "      seed (int) - number generator seed for repeatability\n",
        "\n",
        "    Returns:\n",
        "      noise (array of float) - the noisy signal\n",
        "    \"\"\"\n",
        "\n",
        "    # Initialize the random number generator\n",
        "    rnd = np.random.RandomState(seed)\n",
        "\n",
        "    # Generate a random number for each time step and scale by the noise level\n",
        "    noise = rnd.randn(len(time)) * noise_level\n",
        "    \n",
        "    return noise"
      ]
    },
    {
      "cell_type": "markdown",
      "metadata": {
        "id": "yxNyeFWjGSdj"
      },
      "source": [
        "## Generate the Synthetic Data"
      ]
    },
    {
      "cell_type": "code",
      "execution_count": 3,
      "metadata": {
        "id": "KYEUfDbdpHPm",
        "colab": {
          "base_uri": "https://localhost:8080/",
          "height": 542
        },
        "outputId": "71183f12-7644-457f-f4e5-aa2a5b85c622"
      },
      "outputs": [
        {
          "output_type": "display_data",
          "data": {
            "text/plain": [
              "<Figure size 1000x600 with 1 Axes>"
            ],
            "image/png": "[encoded data removed]"
          },
          "metadata": {}
        }
      ],
      "source": [
        "# Parameters\n",
        "time = np.arange(4 * 365 + 1, dtype=\"float32\")\n",
        "baseline = 10\n",
        "amplitude = 40\n",
        "slope = 0.05\n",
        "noise_level = 5\n",
        "\n",
        "# Create the series\n",
        "series = baseline + trend(time, slope) + seasonality(time, period=365, amplitude=amplitude)\n",
        "\n",
        "# Update with noise\n",
        "series += noise(time, noise_level, seed=42)\n",
        "\n",
        "# Plot the results\n",
        "plot_series(time, series)"
      ]
    },
    {
      "cell_type": "markdown",
      "metadata": {
        "id": "MYKCvv-eGWRc"
      },
      "source": [
        "## Split the Dataset"
      ]
    },
    {
      "cell_type": "code",
      "execution_count": 4,
      "metadata": {
        "id": "hpp0slenpKVD"
      },
      "outputs": [],
      "source": [
        "# Define the split time\n",
        "split_time = 1000\n",
        "\n",
        "# Get the train set \n",
        "time_train = time[:split_time]\n",
        "x_train = series[:split_time]\n",
        "\n",
        "# Get the validation set\n",
        "time_valid = time[split_time:]\n",
        "x_valid = series[split_time:]"
      ]
    },
    {
      "cell_type": "markdown",
      "metadata": {
        "id": "cktHz9aOGYtV"
      },
      "source": [
        "## Prepare Features and Labels"
      ]
    },
    {
      "cell_type": "code",
      "execution_count": 5,
      "metadata": {
        "id": "G_j_2_Mqwn7-"
      },
      "outputs": [],
      "source": [
        "# Parameters\n",
        "window_size = 20\n",
        "batch_size = 32\n",
        "shuffle_buffer_size = 1000"
      ]
    },
    {
      "cell_type": "code",
      "execution_count": 6,
      "metadata": {
        "id": "4sTTIOCbyShY"
      },
      "outputs": [],
      "source": [
        "def windowed_dataset(series, window_size, batch_size, shuffle_buffer):\n",
        "    \"\"\"Generates dataset windows\n",
        "\n",
        "    Args:\n",
        "      series (array of float) - contains the values of the time series\n",
        "      window_size (int) - the number of time steps to include in the feature\n",
        "      batch_size (int) - the batch size\n",
        "      shuffle_buffer(int) - buffer size to use for the shuffle method\n",
        "\n",
        "    Returns:\n",
        "      dataset (TF Dataset) - TF Dataset containing time windows\n",
        "    \"\"\"\n",
        "  \n",
        "    # Generate a TF Dataset from the series values\n",
        "    dataset = tf.data.Dataset.from_tensor_slices(series)\n",
        "    \n",
        "    # Window the data but only take those with the specified size\n",
        "    dataset = dataset.window(window_size + 1, shift=1, drop_remainder=True)\n",
        "    \n",
        "    # Flatten the windows by putting its elements in a single batch\n",
        "    dataset = dataset.flat_map(lambda window: window.batch(window_size + 1))\n",
        "\n",
        "    # Create tuples with features and labels \n",
        "    dataset = dataset.map(lambda window: (window[:-1], window[-1]))\n",
        "\n",
        "    # Shuffle the windows\n",
        "    dataset = dataset.shuffle(shuffle_buffer)\n",
        "    \n",
        "    # Create batches of windows\n",
        "    dataset = dataset.batch(batch_size).prefetch(1)\n",
        "    \n",
        "    return dataset"
      ]
    },
    {
      "cell_type": "code",
      "execution_count": 7,
      "metadata": {
        "id": "vGj5-InSwtQQ"
      },
      "outputs": [],
      "source": [
        "# Generate the dataset windows\n",
        "dataset = windowed_dataset(x_train, window_size, batch_size, shuffle_buffer_size)"
      ]
    },
    {
      "cell_type": "markdown",
      "metadata": {
        "id": "p9-Ke8ZaGcjd"
      },
      "source": [
        "## Build the Model\n",
        "\n",
        "As mentioned, you will swap `SimpleRNN` for `LSTM` in this lab. It is also set as bidirectional below but feel free to revise later and see what results you get. LSTMs are much more complex in their internal architecture than simpleRNNs. It implements a cell state that allows it to remember sequences better than simple implementations. This added complexity results in a bigger set of parameters to train and you'll see that when you print the model summary below."
      ]
    },
    {
      "cell_type": "code",
      "execution_count": 8,
      "metadata": {
        "id": "A1Hl39rklkLm",
        "colab": {
          "base_uri": "https://localhost:8080/"
        },
        "outputId": "d9043f6e-45c6-4220-e4c5-fe9d8702ad8d"
      },
      "outputs": [
        {
          "output_type": "stream",
          "name": "stdout",
          "text": [
            "Model: \"sequential\"\n",
            "_________________________________________________________________\n",
            " Layer (type)                Output Shape              Param #   \n",
            "=================================================================\n",
            " lambda (Lambda)             (None, 20, 1)             0         \n",
            "                                                                 \n",
            " bidirectional (Bidirectiona  (None, 20, 64)           8704      \n",
            " l)                                                              \n",
            "                                                                 \n",
            " bidirectional_1 (Bidirectio  (None, 64)               24832     \n",
            " nal)                                                            \n",
            "                                                                 \n",
            " dense (Dense)               (None, 1)                 65        \n",
            "                                                                 \n",
            " lambda_1 (Lambda)           (None, 1)                 0         \n",
            "                                                                 \n",
            "=================================================================\n",
            "Total params: 33,601\n",
            "Trainable params: 33,601\n",
            "Non-trainable params: 0\n",
            "_________________________________________________________________\n"
          ]
        }
      ],
      "source": [
        "# Build the Model\n",
        "model_tune = tf.keras.models.Sequential([\n",
        "  tf.keras.layers.Lambda(lambda x: tf.expand_dims(x, axis=-1),\n",
        "                      input_shape=[window_size]),\n",
        "    tf.keras.layers.Bidirectional(tf.keras.layers.LSTM(32, return_sequences=True)),\n",
        "  tf.keras.layers.Bidirectional(tf.keras.layers.LSTM(32)),\n",
        "  tf.keras.layers.Dense(1),\n",
        "  tf.keras.layers.Lambda(lambda x: x * 100.0)\n",
        "])\n",
        "\n",
        "# Print the model summary\n",
        "model_tune.summary()"
      ]
    },
    {
      "cell_type": "markdown",
      "metadata": {
        "id": "FHaFblbwq0GV"
      },
      "source": [
        "## Tune the Learning Rate\n",
        "\n",
        "As usual, you will pick a learning rate by running the tuning code below."
      ]
    },
    {
      "cell_type": "code",
      "execution_count": 9,
      "metadata": {
        "id": "qE7al18qw48G",
        "colab": {
          "base_uri": "https://localhost:8080/"
        },
        "outputId": "7e608718-4a0a-49b1-aeba-ffb4db3302a2"
      },
      "outputs": [
        {
          "output_type": "stream",
          "name": "stdout",
          "text": [
            "Epoch 1/100\n",
            "31/31 [==============================] - 19s 18ms/step - loss: 23.9423 - lr: 1.0000e-08\n",
            "Epoch 2/100\n",
            "31/31 [==============================] - 0s 10ms/step - loss: 23.2308 - lr: 1.1220e-08\n",
            "Epoch 3/100\n",
            "31/31 [==============================] - 0s 9ms/step - loss: 22.4794 - lr: 1.2589e-08\n",
            "Epoch 4/100\n",
            "31/31 [==============================] - 0s 10ms/step - loss: 21.7449 - lr: 1.4125e-08\n",
            "Epoch 5/100\n",
            "31/31 [==============================] - 0s 9ms/step - loss: 21.0127 - lr: 1.5849e-08\n",
            "Epoch 6/100\n",
            "31/31 [==============================] - 0s 10ms/step - loss: 20.2999 - lr: 1.7783e-08\n",
            "Epoch 7/100\n",
            "31/31 [==============================] - 0s 10ms/step - loss: 19.5570 - lr: 1.9953e-08\n",
            "Epoch 8/100\n",
            "31/31 [==============================] - 0s 10ms/step - loss: 18.8125 - lr: 2.2387e-08\n",
            "Epoch 9/100\n",
            "31/31 [==============================] - 0s 10ms/step - loss: 18.0433 - lr: 2.5119e-08\n",
            "Epoch 10/100\n",
            "31/31 [==============================] - 0s 10ms/step - loss: 17.2521 - lr: 2.8184e-08\n",
            "Epoch 11/100\n",
            "31/31 [==============================] - 0s 9ms/step - loss: 16.4867 - lr: 3.1623e-08\n",
            "Epoch 12/100\n",
            "31/31 [==============================] - 0s 10ms/step - loss: 15.7341 - lr: 3.5481e-08\n",
            "Epoch 13/100\n",
            "31/31 [==============================] - 0s 9ms/step - loss: 15.0579 - lr: 3.9811e-08\n",
            "Epoch 14/100\n",
            "31/31 [==============================] - 0s 10ms/step - loss: 14.3657 - lr: 4.4668e-08\n",
            "Epoch 15/100\n",
            "31/31 [==============================] - 0s 9ms/step - loss: 13.5753 - lr: 5.0119e-08\n",
            "Epoch 16/100\n",
            "31/31 [==============================] - 0s 10ms/step - loss: 12.5949 - lr: 5.6234e-08\n",
            "Epoch 17/100\n",
            "31/31 [==============================] - 0s 9ms/step - loss: 11.7519 - lr: 6.3096e-08\n",
            "Epoch 18/100\n",
            "31/31 [==============================] - 0s 10ms/step - loss: 11.1156 - lr: 7.0795e-08\n",
            "Epoch 19/100\n",
            "31/31 [==============================] - 0s 10ms/step - loss: 10.5766 - lr: 7.9433e-08\n",
            "Epoch 20/100\n",
            "31/31 [==============================] - 0s 10ms/step - loss: 10.1015 - lr: 8.9125e-08\n",
            "Epoch 21/100\n",
            "31/31 [==============================] - 0s 9ms/step - loss: 9.6782 - lr: 1.0000e-07\n",
            "Epoch 22/100\n",
            "31/31 [==============================] - 0s 9ms/step - loss: 9.2613 - lr: 1.1220e-07\n",
            "Epoch 23/100\n",
            "31/31 [==============================] - 1s 14ms/step - loss: 8.8732 - lr: 1.2589e-07\n",
            "Epoch 24/100\n",
            "31/31 [==============================] - 1s 14ms/step - loss: 8.5417 - lr: 1.4125e-07\n",
            "Epoch 25/100\n",
            "31/31 [==============================] - 1s 10ms/step - loss: 8.2402 - lr: 1.5849e-07\n",
            "Epoch 26/100\n",
            "31/31 [==============================] - 0s 9ms/step - loss: 7.9668 - lr: 1.7783e-07\n",
            "Epoch 27/100\n",
            "31/31 [==============================] - 0s 10ms/step - loss: 7.7726 - lr: 1.9953e-07\n",
            "Epoch 28/100\n",
            "31/31 [==============================] - 0s 9ms/step - loss: 7.6177 - lr: 2.2387e-07\n",
            "Epoch 29/100\n",
            "31/31 [==============================] - 0s 10ms/step - loss: 7.5502 - lr: 2.5119e-07\n",
            "Epoch 30/100\n",
            "31/31 [==============================] - 0s 9ms/step - loss: 7.7557 - lr: 2.8184e-07\n",
            "Epoch 31/100\n",
            "31/31 [==============================] - 0s 10ms/step - loss: 7.4733 - lr: 3.1623e-07\n",
            "Epoch 32/100\n",
            "31/31 [==============================] - 0s 9ms/step - loss: 7.4425 - lr: 3.5481e-07\n",
            "Epoch 33/100\n",
            "31/31 [==============================] - 0s 9ms/step - loss: 7.2305 - lr: 3.9811e-07\n",
            "Epoch 34/100\n",
            "31/31 [==============================] - 0s 10ms/step - loss: 7.3710 - lr: 4.4668e-07\n",
            "Epoch 35/100\n",
            "31/31 [==============================] - 0s 9ms/step - loss: 7.0659 - lr: 5.0119e-07\n",
            "Epoch 36/100\n",
            "31/31 [==============================] - 0s 10ms/step - loss: 7.1114 - lr: 5.6234e-07\n",
            "Epoch 37/100\n",
            "31/31 [==============================] - 0s 9ms/step - loss: 6.9582 - lr: 6.3096e-07\n",
            "Epoch 38/100\n",
            "31/31 [==============================] - 0s 9ms/step - loss: 6.8013 - lr: 7.0795e-07\n",
            "Epoch 39/100\n",
            "31/31 [==============================] - 0s 10ms/step - loss: 6.9016 - lr: 7.9433e-07\n",
            "Epoch 40/100\n",
            "31/31 [==============================] - 0s 9ms/step - loss: 7.6715 - lr: 8.9125e-07\n",
            "Epoch 41/100\n",
            "31/31 [==============================] - 0s 10ms/step - loss: 6.8715 - lr: 1.0000e-06\n",
            "Epoch 42/100\n",
            "31/31 [==============================] - 0s 9ms/step - loss: 6.7411 - lr: 1.1220e-06\n",
            "Epoch 43/100\n",
            "31/31 [==============================] - 0s 9ms/step - loss: 6.4050 - lr: 1.2589e-06\n",
            "Epoch 44/100\n",
            "31/31 [==============================] - 0s 10ms/step - loss: 6.5565 - lr: 1.4125e-06\n",
            "Epoch 45/100\n",
            "31/31 [==============================] - 0s 9ms/step - loss: 6.3207 - lr: 1.5849e-06\n",
            "Epoch 46/100\n",
            "31/31 [==============================] - 0s 10ms/step - loss: 6.5737 - lr: 1.7783e-06\n",
            "Epoch 47/100\n",
            "31/31 [==============================] - 0s 10ms/step - loss: 6.2598 - lr: 1.9953e-06\n",
            "Epoch 48/100\n",
            "31/31 [==============================] - 0s 9ms/step - loss: 6.3737 - lr: 2.2387e-06\n",
            "Epoch 49/100\n",
            "31/31 [==============================] - 1s 15ms/step - loss: 5.9190 - lr: 2.5119e-06\n",
            "Epoch 50/100\n",
            "31/31 [==============================] - 1s 15ms/step - loss: 6.0017 - lr: 2.8184e-06\n",
            "Epoch 51/100\n",
            "31/31 [==============================] - 1s 11ms/step - loss: 5.9244 - lr: 3.1623e-06\n",
            "Epoch 52/100\n",
            "31/31 [==============================] - 0s 9ms/step - loss: 5.6970 - lr: 3.5481e-06\n",
            "Epoch 53/100\n",
            "31/31 [==============================] - 0s 9ms/step - loss: 5.4967 - lr: 3.9811e-06\n",
            "Epoch 54/100\n",
            "31/31 [==============================] - 0s 9ms/step - loss: 5.6735 - lr: 4.4668e-06\n",
            "Epoch 55/100\n",
            "31/31 [==============================] - 0s 10ms/step - loss: 5.9238 - lr: 5.0119e-06\n",
            "Epoch 56/100\n",
            "31/31 [==============================] - 0s 10ms/step - loss: 5.4259 - lr: 5.6234e-06\n",
            "Epoch 57/100\n",
            "31/31 [==============================] - 0s 9ms/step - loss: 5.3195 - lr: 6.3096e-06\n",
            "Epoch 58/100\n",
            "31/31 [==============================] - 0s 10ms/step - loss: 5.4804 - lr: 7.0795e-06\n",
            "Epoch 59/100\n",
            "31/31 [==============================] - 0s 9ms/step - loss: 5.2489 - lr: 7.9433e-06\n",
            "Epoch 60/100\n",
            "31/31 [==============================] - 0s 10ms/step - loss: 5.3577 - lr: 8.9125e-06\n",
            "Epoch 61/100\n",
            "31/31 [==============================] - 0s 10ms/step - loss: 5.5826 - lr: 1.0000e-05\n",
            "Epoch 62/100\n",
            "31/31 [==============================] - 0s 10ms/step - loss: 5.0833 - lr: 1.1220e-05\n",
            "Epoch 63/100\n",
            "31/31 [==============================] - 0s 10ms/step - loss: 5.0684 - lr: 1.2589e-05\n",
            "Epoch 64/100\n",
            "31/31 [==============================] - 0s 10ms/step - loss: 5.0711 - lr: 1.4125e-05\n",
            "Epoch 65/100\n",
            "31/31 [==============================] - 0s 9ms/step - loss: 5.1891 - lr: 1.5849e-05\n",
            "Epoch 66/100\n",
            "31/31 [==============================] - 0s 10ms/step - loss: 4.9041 - lr: 1.7783e-05\n",
            "Epoch 67/100\n",
            "31/31 [==============================] - 0s 9ms/step - loss: 4.7468 - lr: 1.9953e-05\n",
            "Epoch 68/100\n",
            "31/31 [==============================] - 0s 10ms/step - loss: 5.2821 - lr: 2.2387e-05\n",
            "Epoch 69/100\n",
            "31/31 [==============================] - 0s 10ms/step - loss: 5.7103 - lr: 2.5119e-05\n",
            "Epoch 70/100\n",
            "31/31 [==============================] - 0s 10ms/step - loss: 5.3944 - lr: 2.8184e-05\n",
            "Epoch 71/100\n",
            "31/31 [==============================] - 0s 9ms/step - loss: 6.2966 - lr: 3.1623e-05\n",
            "Epoch 72/100\n",
            "31/31 [==============================] - 0s 10ms/step - loss: 5.9509 - lr: 3.5481e-05\n",
            "Epoch 73/100\n",
            "31/31 [==============================] - 0s 10ms/step - loss: 5.6941 - lr: 3.9811e-05\n",
            "Epoch 74/100\n",
            "31/31 [==============================] - 1s 14ms/step - loss: 5.1968 - lr: 4.4668e-05\n",
            "Epoch 75/100\n",
            "31/31 [==============================] - 1s 14ms/step - loss: 5.6587 - lr: 5.0119e-05\n",
            "Epoch 76/100\n",
            "31/31 [==============================] - 1s 14ms/step - loss: 5.4912 - lr: 5.6234e-05\n",
            "Epoch 77/100\n",
            "31/31 [==============================] - 1s 14ms/step - loss: 5.4287 - lr: 6.3096e-05\n",
            "Epoch 78/100\n",
            "31/31 [==============================] - 0s 9ms/step - loss: 5.8946 - lr: 7.0795e-05\n",
            "Epoch 79/100\n",
            "31/31 [==============================] - 0s 9ms/step - loss: 5.0329 - lr: 7.9433e-05\n",
            "Epoch 80/100\n",
            "31/31 [==============================] - 0s 9ms/step - loss: 6.8987 - lr: 8.9125e-05\n",
            "Epoch 81/100\n",
            "31/31 [==============================] - 0s 9ms/step - loss: 5.7878 - lr: 1.0000e-04\n",
            "Epoch 82/100\n",
            "31/31 [==============================] - 0s 9ms/step - loss: 8.9691 - lr: 1.1220e-04\n",
            "Epoch 83/100\n",
            "31/31 [==============================] - 0s 10ms/step - loss: 8.8752 - lr: 1.2589e-04\n",
            "Epoch 84/100\n",
            "31/31 [==============================] - 0s 9ms/step - loss: 8.8277 - lr: 1.4125e-04\n",
            "Epoch 85/100\n",
            "31/31 [==============================] - 0s 9ms/step - loss: 5.6291 - lr: 1.5849e-04\n",
            "Epoch 86/100\n",
            "31/31 [==============================] - 0s 9ms/step - loss: 6.6863 - lr: 1.7783e-04\n",
            "Epoch 87/100\n",
            "31/31 [==============================] - 0s 9ms/step - loss: 9.0841 - lr: 1.9953e-04\n",
            "Epoch 88/100\n",
            "31/31 [==============================] - 0s 10ms/step - loss: 9.8396 - lr: 2.2387e-04\n",
            "Epoch 89/100\n",
            "31/31 [==============================] - 1s 19ms/step - loss: 8.3874 - lr: 2.5119e-04\n",
            "Epoch 90/100\n",
            "31/31 [==============================] - 0s 9ms/step - loss: 6.4289 - lr: 2.8184e-04\n",
            "Epoch 91/100\n",
            "31/31 [==============================] - 1s 19ms/step - loss: 8.3101 - lr: 3.1623e-04\n",
            "Epoch 92/100\n",
            "31/31 [==============================] - 0s 9ms/step - loss: 9.0696 - lr: 3.5481e-04\n",
            "Epoch 93/100\n",
            "31/31 [==============================] - 1s 19ms/step - loss: 8.9469 - lr: 3.9811e-04\n",
            "Epoch 94/100\n",
            "31/31 [==============================] - 0s 10ms/step - loss: 9.6115 - lr: 4.4668e-04\n",
            "Epoch 95/100\n",
            "31/31 [==============================] - 0s 9ms/step - loss: 6.6195 - lr: 5.0119e-04\n",
            "Epoch 96/100\n",
            "31/31 [==============================] - 0s 9ms/step - loss: 7.6358 - lr: 5.6234e-04\n",
            "Epoch 97/100\n",
            "31/31 [==============================] - 0s 10ms/step - loss: 7.7265 - lr: 6.3096e-04\n",
            "Epoch 98/100\n",
            "31/31 [==============================] - 0s 10ms/step - loss: 8.4379 - lr: 7.0795e-04\n",
            "Epoch 99/100\n",
            "31/31 [==============================] - 1s 16ms/step - loss: 9.6206 - lr: 7.9433e-04\n",
            "Epoch 100/100\n",
            "31/31 [==============================] - 1s 14ms/step - loss: 12.0369 - lr: 8.9125e-04\n"
          ]
        }
      ],
      "source": [
        "# Set the learning rate scheduler\n",
        "lr_schedule = tf.keras.callbacks.LearningRateScheduler(\n",
        "    lambda epoch: 1e-8 * 10**(epoch / 20))\n",
        "\n",
        "# Initialize the optimizer\n",
        "optimizer = tf.keras.optimizers.SGD(momentum=0.9)\n",
        "\n",
        "# Set the training parameters\n",
        "model_tune.compile(loss=tf.keras.losses.Huber(), optimizer=optimizer)\n",
        "\n",
        "# Train the model\n",
        "history = model_tune.fit(dataset, epochs=100, callbacks=[lr_schedule])"
      ]
    },
    {
      "cell_type": "code",
      "execution_count": 10,
      "metadata": {
        "id": "AkBsrsXMzoWR",
        "colab": {
          "base_uri": "https://localhost:8080/",
          "height": 559
        },
        "outputId": "e65211a4-9913-49f6-ef56-584279c05043"
      },
      "outputs": [
        {
          "output_type": "execute_result",
          "data": {
            "text/plain": [
              "(1e-08, 0.001, 0.0, 30.0)"
            ]
          },
          "metadata": {},
          "execution_count": 10
        },
        {
          "output_type": "display_data",
          "data": {
            "text/plain": [
              "<Figure size 1000x600 with 1 Axes>"
            ],
            "image/png": "[encoded data removed]"
          },
          "metadata": {}
        }
      ],
      "source": [
        "# Define the learning rate array\n",
        "lrs = 1e-8 * (10 ** (np.arange(100) / 20))\n",
        "\n",
        "# Set the figure size\n",
        "plt.figure(figsize=(10, 6))\n",
        "\n",
        "# Set the grid\n",
        "plt.grid(True)\n",
        "\n",
        "# Plot the loss in log scale\n",
        "plt.semilogx(lrs, history.history[\"loss\"])\n",
        "\n",
        "# Increase the tickmarks size\n",
        "plt.tick_params('both', length=10, width=1, which='both')\n",
        "\n",
        "# Set the plot boundaries\n",
        "plt.axis([1e-8, 1e-3, 0, 30])"
      ]
    },
    {
      "cell_type": "markdown",
      "metadata": {
        "id": "i-lKNp4pq_w8"
      },
      "source": [
        "## Train the Model\n",
        "\n",
        "You can then proceed to train the model with your chosen learning rate. \n",
        "\n",
        "*Tip: When experimenting and you find yourself running different iterations of a model, you may want to use the [`clear_session()`](https://www.tensorflow.org/api_docs/python/tf/keras/backend/clear_session) method to declutter memory used by Keras. This is added in the first line below.*\n"
      ]
    },
    {
      "cell_type": "code",
      "execution_count": 11,
      "metadata": {
        "id": "4uh-97bpLZCA",
        "colab": {
          "base_uri": "https://localhost:8080/"
        },
        "outputId": "77414884-f343-446e-b716-09ef31d0bdef"
      },
      "outputs": [
        {
          "output_type": "stream",
          "name": "stdout",
          "text": [
            "Epoch 1/100\n",
            "31/31 [==============================] - 6s 9ms/step - loss: 12.7717 - mae: 13.2614\n",
            "Epoch 2/100\n",
            "31/31 [==============================] - 0s 10ms/step - loss: 7.7285 - mae: 8.2120\n",
            "Epoch 3/100\n",
            "31/31 [==============================] - 0s 9ms/step - loss: 6.8521 - mae: 7.3309\n",
            "Epoch 4/100\n",
            "31/31 [==============================] - 0s 10ms/step - loss: 6.4271 - mae: 6.9134\n",
            "Epoch 5/100\n",
            "31/31 [==============================] - 0s 10ms/step - loss: 5.9904 - mae: 6.4707\n",
            "Epoch 6/100\n",
            "31/31 [==============================] - 0s 9ms/step - loss: 6.0631 - mae: 6.5443\n",
            "Epoch 7/100\n",
            "31/31 [==============================] - 0s 10ms/step - loss: 5.6824 - mae: 6.1613\n",
            "Epoch 8/100\n",
            "31/31 [==============================] - 0s 12ms/step - loss: 5.7678 - mae: 6.2475\n",
            "Epoch 9/100\n",
            "31/31 [==============================] - 1s 13ms/step - loss: 5.5138 - mae: 5.9892\n",
            "Epoch 10/100\n",
            "31/31 [==============================] - 1s 15ms/step - loss: 5.4189 - mae: 5.8982\n",
            "Epoch 11/100\n",
            "31/31 [==============================] - 1s 15ms/step - loss: 5.4517 - mae: 5.9309\n",
            "Epoch 12/100\n",
            "31/31 [==============================] - 1s 11ms/step - loss: 5.3910 - mae: 5.8696\n",
            "Epoch 13/100\n",
            "31/31 [==============================] - 0s 9ms/step - loss: 5.2477 - mae: 5.7242\n",
            "Epoch 14/100\n",
            "31/31 [==============================] - 0s 10ms/step - loss: 5.2611 - mae: 5.7395\n",
            "Epoch 15/100\n",
            "31/31 [==============================] - 0s 10ms/step - loss: 5.2980 - mae: 5.7821\n",
            "Epoch 16/100\n",
            "31/31 [==============================] - 0s 10ms/step - loss: 5.2383 - mae: 5.7151\n",
            "Epoch 17/100\n",
            "31/31 [==============================] - 0s 10ms/step - loss: 5.0994 - mae: 5.5778\n",
            "Epoch 18/100\n",
            "31/31 [==============================] - 0s 9ms/step - loss: 5.0438 - mae: 5.5193\n",
            "Epoch 19/100\n",
            "31/31 [==============================] - 0s 10ms/step - loss: 5.0985 - mae: 5.5739\n",
            "Epoch 20/100\n",
            "31/31 [==============================] - 0s 9ms/step - loss: 5.0829 - mae: 5.5614\n",
            "Epoch 21/100\n",
            "31/31 [==============================] - 0s 10ms/step - loss: 5.0540 - mae: 5.5340\n",
            "Epoch 22/100\n",
            "31/31 [==============================] - 0s 9ms/step - loss: 5.0352 - mae: 5.5094\n",
            "Epoch 23/100\n",
            "31/31 [==============================] - 0s 10ms/step - loss: 4.9339 - mae: 5.4138\n",
            "Epoch 24/100\n",
            "31/31 [==============================] - 0s 9ms/step - loss: 4.9672 - mae: 5.4442\n",
            "Epoch 25/100\n",
            "31/31 [==============================] - 0s 9ms/step - loss: 4.9509 - mae: 5.4308\n",
            "Epoch 26/100\n",
            "31/31 [==============================] - 0s 10ms/step - loss: 5.1215 - mae: 5.5999\n",
            "Epoch 27/100\n",
            "31/31 [==============================] - 0s 9ms/step - loss: 5.0905 - mae: 5.5693\n",
            "Epoch 28/100\n",
            "31/31 [==============================] - 0s 10ms/step - loss: 4.9216 - mae: 5.4005\n",
            "Epoch 29/100\n",
            "31/31 [==============================] - 0s 9ms/step - loss: 4.8847 - mae: 5.3649\n",
            "Epoch 30/100\n",
            "31/31 [==============================] - 0s 9ms/step - loss: 4.8570 - mae: 5.3341\n",
            "Epoch 31/100\n",
            "31/31 [==============================] - 0s 9ms/step - loss: 4.7882 - mae: 5.2666\n",
            "Epoch 32/100\n",
            "31/31 [==============================] - 0s 9ms/step - loss: 4.8219 - mae: 5.3007\n",
            "Epoch 33/100\n",
            "31/31 [==============================] - 0s 10ms/step - loss: 4.7831 - mae: 5.2620\n",
            "Epoch 34/100\n",
            "31/31 [==============================] - 0s 10ms/step - loss: 4.8588 - mae: 5.3348\n",
            "Epoch 35/100\n",
            "31/31 [==============================] - 0s 10ms/step - loss: 4.7592 - mae: 5.2350\n",
            "Epoch 36/100\n",
            "31/31 [==============================] - 1s 14ms/step - loss: 4.8885 - mae: 5.3658\n",
            "Epoch 37/100\n",
            "31/31 [==============================] - 1s 14ms/step - loss: 4.7597 - mae: 5.2395\n",
            "Epoch 38/100\n",
            "31/31 [==============================] - 1s 15ms/step - loss: 4.7609 - mae: 5.2404\n",
            "Epoch 39/100\n",
            "31/31 [==============================] - 1s 14ms/step - loss: 4.7446 - mae: 5.2238\n",
            "Epoch 40/100\n",
            "31/31 [==============================] - 0s 10ms/step - loss: 4.7872 - mae: 5.2639\n",
            "Epoch 41/100\n",
            "31/31 [==============================] - 0s 10ms/step - loss: 4.6976 - mae: 5.1735\n",
            "Epoch 42/100\n",
            "31/31 [==============================] - 0s 9ms/step - loss: 4.6841 - mae: 5.1644\n",
            "Epoch 43/100\n",
            "31/31 [==============================] - 0s 10ms/step - loss: 4.7872 - mae: 5.2611\n",
            "Epoch 44/100\n",
            "31/31 [==============================] - 0s 10ms/step - loss: 4.8018 - mae: 5.2790\n",
            "Epoch 45/100\n",
            "31/31 [==============================] - 0s 10ms/step - loss: 4.6839 - mae: 5.1626\n",
            "Epoch 46/100\n",
            "31/31 [==============================] - 0s 9ms/step - loss: 4.6248 - mae: 5.1026\n",
            "Epoch 47/100\n",
            "31/31 [==============================] - 0s 10ms/step - loss: 4.6576 - mae: 5.1394\n",
            "Epoch 48/100\n",
            "31/31 [==============================] - 0s 10ms/step - loss: 4.6221 - mae: 5.1007\n",
            "Epoch 49/100\n",
            "31/31 [==============================] - 0s 12ms/step - loss: 4.7520 - mae: 5.2309\n",
            "Epoch 50/100\n",
            "31/31 [==============================] - 0s 10ms/step - loss: 4.6074 - mae: 5.0827\n",
            "Epoch 51/100\n",
            "31/31 [==============================] - 0s 9ms/step - loss: 4.7052 - mae: 5.1750\n",
            "Epoch 52/100\n",
            "31/31 [==============================] - 0s 10ms/step - loss: 4.6419 - mae: 5.1211\n",
            "Epoch 53/100\n",
            "31/31 [==============================] - 0s 9ms/step - loss: 4.5966 - mae: 5.0743\n",
            "Epoch 54/100\n",
            "31/31 [==============================] - 0s 10ms/step - loss: 4.6024 - mae: 5.0804\n",
            "Epoch 55/100\n",
            "31/31 [==============================] - 0s 9ms/step - loss: 4.6602 - mae: 5.1399\n",
            "Epoch 56/100\n",
            "31/31 [==============================] - 0s 10ms/step - loss: 4.5890 - mae: 5.0663\n",
            "Epoch 57/100\n",
            "31/31 [==============================] - 0s 10ms/step - loss: 4.5884 - mae: 5.0665\n",
            "Epoch 58/100\n",
            "31/31 [==============================] - 0s 9ms/step - loss: 4.6406 - mae: 5.1181\n",
            "Epoch 59/100\n",
            "31/31 [==============================] - 0s 10ms/step - loss: 4.7027 - mae: 5.1821\n",
            "Epoch 60/100\n",
            "31/31 [==============================] - 0s 11ms/step - loss: 4.7213 - mae: 5.1942\n",
            "Epoch 61/100\n",
            "31/31 [==============================] - 0s 10ms/step - loss: 4.8624 - mae: 5.3404\n",
            "Epoch 62/100\n",
            "31/31 [==============================] - 0s 10ms/step - loss: 4.7344 - mae: 5.2065\n",
            "Epoch 63/100\n",
            "31/31 [==============================] - 1s 15ms/step - loss: 4.5982 - mae: 5.0748\n",
            "Epoch 64/100\n",
            "31/31 [==============================] - 1s 14ms/step - loss: 4.6292 - mae: 5.1069\n",
            "Epoch 65/100\n",
            "31/31 [==============================] - 1s 14ms/step - loss: 4.5977 - mae: 5.0741\n",
            "Epoch 66/100\n",
            "31/31 [==============================] - 1s 15ms/step - loss: 4.5376 - mae: 5.0175\n",
            "Epoch 67/100\n",
            "31/31 [==============================] - 0s 10ms/step - loss: 4.5109 - mae: 4.9883\n",
            "Epoch 68/100\n",
            "31/31 [==============================] - 0s 10ms/step - loss: 4.5151 - mae: 4.9960\n",
            "Epoch 69/100\n",
            "31/31 [==============================] - 0s 9ms/step - loss: 4.5625 - mae: 5.0413\n",
            "Epoch 70/100\n",
            "31/31 [==============================] - 0s 10ms/step - loss: 4.6185 - mae: 5.0955\n",
            "Epoch 71/100\n",
            "31/31 [==============================] - 0s 10ms/step - loss: 4.5712 - mae: 5.0522\n",
            "Epoch 72/100\n",
            "31/31 [==============================] - 0s 9ms/step - loss: 4.5472 - mae: 5.0197\n",
            "Epoch 73/100\n",
            "31/31 [==============================] - 0s 9ms/step - loss: 4.6880 - mae: 5.1670\n",
            "Epoch 74/100\n",
            "31/31 [==============================] - 0s 9ms/step - loss: 4.6580 - mae: 5.1340\n",
            "Epoch 75/100\n",
            "31/31 [==============================] - 0s 10ms/step - loss: 4.5884 - mae: 5.0659\n",
            "Epoch 76/100\n",
            "31/31 [==============================] - 0s 10ms/step - loss: 4.4982 - mae: 4.9742\n",
            "Epoch 77/100\n",
            "31/31 [==============================] - 0s 10ms/step - loss: 4.4988 - mae: 4.9746\n",
            "Epoch 78/100\n",
            "31/31 [==============================] - 0s 9ms/step - loss: 4.4690 - mae: 4.9481\n",
            "Epoch 79/100\n",
            "31/31 [==============================] - 0s 9ms/step - loss: 4.5034 - mae: 4.9798\n",
            "Epoch 80/100\n",
            "31/31 [==============================] - 0s 9ms/step - loss: 4.4739 - mae: 4.9520\n",
            "Epoch 81/100\n",
            "31/31 [==============================] - 0s 9ms/step - loss: 4.4571 - mae: 4.9353\n",
            "Epoch 82/100\n",
            "31/31 [==============================] - 0s 10ms/step - loss: 4.4563 - mae: 4.9333\n",
            "Epoch 83/100\n",
            "31/31 [==============================] - 0s 10ms/step - loss: 4.4679 - mae: 4.9471\n",
            "Epoch 84/100\n",
            "31/31 [==============================] - 0s 9ms/step - loss: 4.5493 - mae: 5.0271\n",
            "Epoch 85/100\n",
            "31/31 [==============================] - 0s 10ms/step - loss: 4.4446 - mae: 4.9226\n",
            "Epoch 86/100\n",
            "31/31 [==============================] - 0s 10ms/step - loss: 4.4912 - mae: 4.9710\n",
            "Epoch 87/100\n",
            "31/31 [==============================] - 1s 14ms/step - loss: 4.4977 - mae: 4.9745\n",
            "Epoch 88/100\n",
            "31/31 [==============================] - 1s 14ms/step - loss: 4.4501 - mae: 4.9274\n",
            "Epoch 89/100\n",
            "31/31 [==============================] - 1s 14ms/step - loss: 4.5362 - mae: 5.0145\n",
            "Epoch 90/100\n",
            "31/31 [==============================] - 1s 15ms/step - loss: 4.5661 - mae: 5.0408\n",
            "Epoch 91/100\n",
            "31/31 [==============================] - 0s 10ms/step - loss: 4.4803 - mae: 4.9585\n",
            "Epoch 92/100\n",
            "31/31 [==============================] - 0s 9ms/step - loss: 4.4934 - mae: 4.9725\n",
            "Epoch 93/100\n",
            "31/31 [==============================] - 0s 10ms/step - loss: 4.4645 - mae: 4.9437\n",
            "Epoch 94/100\n",
            "31/31 [==============================] - 0s 10ms/step - loss: 4.4478 - mae: 4.9227\n",
            "Epoch 95/100\n",
            "31/31 [==============================] - 0s 10ms/step - loss: 4.5171 - mae: 4.9935\n",
            "Epoch 96/100\n",
            "31/31 [==============================] - 0s 10ms/step - loss: 4.5135 - mae: 4.9917\n",
            "Epoch 97/100\n",
            "31/31 [==============================] - 0s 9ms/step - loss: 4.4179 - mae: 4.8928\n",
            "Epoch 98/100\n",
            "31/31 [==============================] - 0s 10ms/step - loss: 4.4325 - mae: 4.9064\n",
            "Epoch 99/100\n",
            "31/31 [==============================] - 0s 10ms/step - loss: 4.4119 - mae: 4.8880\n",
            "Epoch 100/100\n",
            "31/31 [==============================] - 0s 9ms/step - loss: 4.4291 - mae: 4.9036\n"
          ]
        }
      ],
      "source": [
        "# Reset states generated by Keras\n",
        "tf.keras.backend.clear_session()\n",
        "\n",
        "# Build the model\n",
        "model = tf.keras.models.Sequential([\n",
        "  tf.keras.layers.Lambda(lambda x: tf.expand_dims(x, axis=-1),\n",
        "                      input_shape=[None]),\n",
        "   tf.keras.layers.Bidirectional(tf.keras.layers.LSTM(32, return_sequences=True)),\n",
        "  tf.keras.layers.Bidirectional(tf.keras.layers.LSTM(32)),\n",
        "  tf.keras.layers.Dense(1),\n",
        "  tf.keras.layers.Lambda(lambda x: x * 100.0)\n",
        "])\n",
        "\n",
        "# Set the learning rate\n",
        "learning_rate = 2e-6\n",
        "\n",
        "# Set the optimizer \n",
        "optimizer = tf.keras.optimizers.SGD(learning_rate=learning_rate, momentum=0.9)\n",
        "\n",
        "# Set the training parameters\n",
        "model.compile(loss=tf.keras.losses.Huber(),\n",
        "              optimizer=optimizer,\n",
        "              metrics=[\"mae\"])\n",
        "\n",
        "# Train the model\n",
        "history = model.fit(dataset,epochs=100)"
      ]
    },
    {
      "cell_type": "markdown",
      "metadata": {
        "id": "RjP4kbGiI7cw"
      },
      "source": [
        "## Model Prediction\n",
        "\n",
        "You will then generate batches of windows to generate predictions that align with the validation set."
      ]
    },
    {
      "cell_type": "code",
      "execution_count": 12,
      "metadata": {
        "id": "QO8cfKwKBBG6"
      },
      "outputs": [],
      "source": [
        "def model_forecast(model, series, window_size, batch_size):\n",
        "    \"\"\"Uses an input model to generate predictions on data windows\n",
        "\n",
        "    Args:\n",
        "      model (TF Keras Model) - model that accepts data windows\n",
        "      series (array of float) - contains the values of the time series\n",
        "      window_size (int) - the number of time steps to include in the window\n",
        "      batch_size (int) - the batch size\n",
        "\n",
        "    Returns:\n",
        "      forecast (numpy array) - array containing predictions\n",
        "    \"\"\"\n",
        "\n",
        "    # Generate a TF Dataset from the series values\n",
        "    dataset = tf.data.Dataset.from_tensor_slices(series)\n",
        "\n",
        "    # Window the data but only take those with the specified size\n",
        "    dataset = dataset.window(window_size, shift=1, drop_remainder=True)\n",
        "\n",
        "    # Flatten the windows by putting its elements in a single batch\n",
        "    dataset = dataset.flat_map(lambda w: w.batch(window_size))\n",
        "    \n",
        "    # Create batches of windows\n",
        "    dataset = dataset.batch(batch_size).prefetch(1)\n",
        "    \n",
        "    # Get predictions on the entire dataset\n",
        "    forecast = model.predict(dataset)\n",
        "    \n",
        "    return forecast"
      ]
    },
    {
      "cell_type": "code",
      "execution_count": 13,
      "metadata": {
        "id": "_plB3UseBD8o",
        "colab": {
          "base_uri": "https://localhost:8080/",
          "height": 560
        },
        "outputId": "d619d97d-1c9b-4195-c300-ce2bbc3921b4"
      },
      "outputs": [
        {
          "output_type": "stream",
          "name": "stdout",
          "text": [
            "15/15 [==============================] - 1s 7ms/step\n"
          ]
        },
        {
          "output_type": "display_data",
          "data": {
            "text/plain": [
              "<Figure size 1000x600 with 1 Axes>"
            ],
            "image/png": "[encoded data removed]"
          },
          "metadata": {}
        }
      ],
      "source": [
        "# Reduce the original series\n",
        "forecast_series = series[split_time-window_size:-1]\n",
        "\n",
        "# Use helper function to generate predictions\n",
        "forecast = model_forecast(model, forecast_series, window_size, batch_size)\n",
        "\n",
        "# Drop single dimensional axis\n",
        "results = forecast.squeeze()\n",
        "\n",
        "# Plot the results\n",
        "plot_series(time_valid, (x_valid, results))"
      ]
    },
    {
      "cell_type": "markdown",
      "metadata": {
        "id": "Nn8iSQkZtaRC"
      },
      "source": [
        "You can then generate the metrics to evaluate the model's performance."
      ]
    },
    {
      "cell_type": "code",
      "execution_count": 14,
      "metadata": {
        "id": "-IKhueZaBGID",
        "colab": {
          "base_uri": "https://localhost:8080/"
        },
        "outputId": "1f5d5446-d6a9-4034-d717-ba85ad7efe8f"
      },
      "outputs": [
        {
          "output_type": "stream",
          "name": "stdout",
          "text": [
            "68.656654\n",
            "5.9617314\n"
          ]
        }
      ],
      "source": [
        "# Compute the MSE and MAE\n",
        "print(tf.keras.metrics.mean_squared_error(x_valid, results).numpy())\n",
        "print(tf.keras.metrics.mean_absolute_error(x_valid, results).numpy())"
      ]
    },
    {
      "cell_type": "markdown",
      "metadata": {
        "id": "bzPIqeMWvbPy"
      },
      "source": [
        "## Wrap Up\n",
        "\n",
        "This concludes this short exercise on using LSTMs for time series forecasting. Next week, you will build upon this and add convolutions. Then, you will start to move away from synthetic data and use real-world datasets. See you there!"
      ]
    },
    {
      "cell_type": "markdown",
      "metadata": {
        "id": "U5PqTePGHeMH"
      },
      "source": [
        "## Optional: Including a Validation Set while Training\n",
        "\n",
        "Back in the first course of this specialization, you saw how you can also monitor the performance of your model against a validation set while training. You can also do that for this lab. \n",
        "\n",
        "First, you need to generate a `val_set` which are data windows and labels that your model can accept. You can simply reuse the `windowed_dataset` function for that and you can pass in the `x_valid` points to generate the windows."
      ]
    },
    {
      "cell_type": "code",
      "execution_count": 15,
      "metadata": {
        "id": "kvFVwL3PC4iX"
      },
      "outputs": [],
      "source": [
        "# Generate data windows of the validation set\n",
        "val_set = windowed_dataset(x_valid, window_size, batch_size, shuffle_buffer_size)"
      ]
    },
    {
      "cell_type": "markdown",
      "metadata": {
        "id": "p68j6XxEvP9K"
      },
      "source": [
        "You can then do the same training as before but pass in the `val_set` to the `validation_data` parameter of the `fit()` method."
      ]
    },
    {
      "cell_type": "code",
      "execution_count": 16,
      "metadata": {
        "id": "wujKz6tXDSn0",
        "colab": {
          "base_uri": "https://localhost:8080/"
        },
        "outputId": "d3d12135-a561-4c1d-86a1-18b02ab83c13"
      },
      "outputs": [
        {
          "output_type": "stream",
          "name": "stdout",
          "text": [
            "Epoch 1/100\n",
            "31/31 [==============================] - 8s 69ms/step - loss: 38.9041 - mae: 39.4012 - val_loss: 22.7373 - val_mae: 23.2347\n",
            "Epoch 2/100\n",
            "31/31 [==============================] - 0s 13ms/step - loss: 14.0813 - mae: 14.5744 - val_loss: 24.9189 - val_mae: 25.4155\n",
            "Epoch 3/100\n",
            "31/31 [==============================] - 1s 14ms/step - loss: 9.9453 - mae: 10.4271 - val_loss: 18.2462 - val_mae: 18.7429\n",
            "Epoch 4/100\n",
            "31/31 [==============================] - 0s 13ms/step - loss: 7.7530 - mae: 8.2332 - val_loss: 15.0156 - val_mae: 15.5124\n",
            "Epoch 5/100\n",
            "31/31 [==============================] - 0s 13ms/step - loss: 7.3069 - mae: 7.7903 - val_loss: 14.0422 - val_mae: 14.5401\n",
            "Epoch 6/100\n",
            "31/31 [==============================] - 1s 14ms/step - loss: 7.1588 - mae: 7.6381 - val_loss: 12.2480 - val_mae: 12.7400\n",
            "Epoch 7/100\n",
            "31/31 [==============================] - 0s 13ms/step - loss: 6.8308 - mae: 7.3109 - val_loss: 12.1842 - val_mae: 12.6798\n",
            "Epoch 8/100\n",
            "31/31 [==============================] - 1s 14ms/step - loss: 6.6528 - mae: 7.1346 - val_loss: 10.0506 - val_mae: 10.5417\n",
            "Epoch 9/100\n",
            "31/31 [==============================] - 0s 13ms/step - loss: 6.5097 - mae: 6.9885 - val_loss: 9.3995 - val_mae: 9.8863\n",
            "Epoch 10/100\n",
            "31/31 [==============================] - 1s 25ms/step - loss: 6.5238 - mae: 7.0011 - val_loss: 12.5408 - val_mae: 13.0313\n",
            "Epoch 11/100\n",
            "31/31 [==============================] - 1s 24ms/step - loss: 6.7431 - mae: 7.2224 - val_loss: 10.0730 - val_mae: 10.5651\n",
            "Epoch 12/100\n",
            "31/31 [==============================] - 1s 13ms/step - loss: 6.4106 - mae: 6.8860 - val_loss: 8.6809 - val_mae: 9.1673\n",
            "Epoch 13/100\n",
            "31/31 [==============================] - 1s 13ms/step - loss: 6.1607 - mae: 6.6433 - val_loss: 9.8637 - val_mae: 10.3530\n",
            "Epoch 14/100\n",
            "31/31 [==============================] - 0s 13ms/step - loss: 6.2067 - mae: 6.6895 - val_loss: 8.5460 - val_mae: 9.0352\n",
            "Epoch 15/100\n",
            "31/31 [==============================] - 0s 13ms/step - loss: 6.0338 - mae: 6.5127 - val_loss: 7.9818 - val_mae: 8.4704\n",
            "Epoch 16/100\n",
            "31/31 [==============================] - 1s 14ms/step - loss: 5.9442 - mae: 6.4221 - val_loss: 9.3636 - val_mae: 9.8518\n",
            "Epoch 17/100\n",
            "31/31 [==============================] - 0s 13ms/step - loss: 5.9354 - mae: 6.4129 - val_loss: 10.2475 - val_mae: 10.7411\n",
            "Epoch 18/100\n",
            "31/31 [==============================] - 1s 13ms/step - loss: 6.0348 - mae: 6.5146 - val_loss: 9.2345 - val_mae: 9.7252\n",
            "Epoch 19/100\n",
            "31/31 [==============================] - 0s 13ms/step - loss: 5.6178 - mae: 6.0963 - val_loss: 9.6871 - val_mae: 10.1782\n",
            "Epoch 20/100\n",
            "31/31 [==============================] - 1s 14ms/step - loss: 5.6013 - mae: 6.0788 - val_loss: 7.4518 - val_mae: 7.9348\n",
            "Epoch 21/100\n",
            "31/31 [==============================] - 1s 13ms/step - loss: 5.5594 - mae: 6.0335 - val_loss: 7.2561 - val_mae: 7.7391\n",
            "Epoch 22/100\n",
            "31/31 [==============================] - 0s 13ms/step - loss: 5.7719 - mae: 6.2511 - val_loss: 8.1545 - val_mae: 8.6413\n",
            "Epoch 23/100\n",
            "31/31 [==============================] - 0s 13ms/step - loss: 5.5284 - mae: 6.0059 - val_loss: 7.1803 - val_mae: 7.6671\n",
            "Epoch 24/100\n",
            "31/31 [==============================] - 0s 13ms/step - loss: 5.3681 - mae: 5.8418 - val_loss: 8.6734 - val_mae: 9.1644\n",
            "Epoch 25/100\n",
            "31/31 [==============================] - 0s 13ms/step - loss: 5.2795 - mae: 5.7566 - val_loss: 8.4423 - val_mae: 8.9315\n",
            "Epoch 26/100\n",
            "31/31 [==============================] - 1s 14ms/step - loss: 5.1947 - mae: 5.6732 - val_loss: 7.0085 - val_mae: 7.4899\n",
            "Epoch 27/100\n",
            "31/31 [==============================] - 1s 14ms/step - loss: 5.1290 - mae: 5.6013 - val_loss: 6.5695 - val_mae: 7.0533\n",
            "Epoch 28/100\n",
            "31/31 [==============================] - 1s 14ms/step - loss: 5.0843 - mae: 5.5612 - val_loss: 7.7462 - val_mae: 8.2298\n",
            "Epoch 29/100\n",
            "31/31 [==============================] - 0s 13ms/step - loss: 5.0915 - mae: 5.5660 - val_loss: 6.9314 - val_mae: 7.4125\n",
            "Epoch 30/100\n",
            "31/31 [==============================] - 1s 26ms/step - loss: 5.0674 - mae: 5.5446 - val_loss: 7.2449 - val_mae: 7.7297\n",
            "Epoch 31/100\n",
            "31/31 [==============================] - 1s 20ms/step - loss: 5.1331 - mae: 5.6088 - val_loss: 6.3795 - val_mae: 6.8663\n",
            "Epoch 32/100\n",
            "31/31 [==============================] - 1s 21ms/step - loss: 5.0655 - mae: 5.5423 - val_loss: 9.2870 - val_mae: 9.7793\n",
            "Epoch 33/100\n",
            "31/31 [==============================] - 1s 14ms/step - loss: 4.9986 - mae: 5.4778 - val_loss: 6.3668 - val_mae: 6.8529\n",
            "Epoch 34/100\n",
            "31/31 [==============================] - 1s 14ms/step - loss: 4.9934 - mae: 5.4720 - val_loss: 6.0440 - val_mae: 6.5193\n",
            "Epoch 35/100\n",
            "31/31 [==============================] - 1s 14ms/step - loss: 4.9993 - mae: 5.4814 - val_loss: 7.0427 - val_mae: 7.5282\n",
            "Epoch 36/100\n",
            "31/31 [==============================] - 1s 14ms/step - loss: 4.9256 - mae: 5.4014 - val_loss: 6.8728 - val_mae: 7.3570\n",
            "Epoch 37/100\n",
            "31/31 [==============================] - 1s 13ms/step - loss: 4.9032 - mae: 5.3801 - val_loss: 7.3789 - val_mae: 7.8642\n",
            "Epoch 38/100\n",
            "31/31 [==============================] - 1s 14ms/step - loss: 5.0479 - mae: 5.5223 - val_loss: 6.0383 - val_mae: 6.5221\n",
            "Epoch 39/100\n",
            "31/31 [==============================] - 1s 14ms/step - loss: 4.9110 - mae: 5.3869 - val_loss: 5.8889 - val_mae: 6.3663\n",
            "Epoch 40/100\n",
            "31/31 [==============================] - 1s 13ms/step - loss: 4.8720 - mae: 5.3457 - val_loss: 5.9685 - val_mae: 6.4500\n",
            "Epoch 41/100\n",
            "31/31 [==============================] - 1s 14ms/step - loss: 4.8433 - mae: 5.3200 - val_loss: 6.5613 - val_mae: 7.0421\n",
            "Epoch 42/100\n",
            "31/31 [==============================] - 1s 14ms/step - loss: 4.8537 - mae: 5.3351 - val_loss: 7.4101 - val_mae: 7.8964\n",
            "Epoch 43/100\n",
            "31/31 [==============================] - 0s 13ms/step - loss: 4.9979 - mae: 5.4738 - val_loss: 6.5702 - val_mae: 7.0519\n",
            "Epoch 44/100\n",
            "31/31 [==============================] - 0s 13ms/step - loss: 4.7731 - mae: 5.2475 - val_loss: 6.1631 - val_mae: 6.6466\n",
            "Epoch 45/100\n",
            "31/31 [==============================] - 1s 15ms/step - loss: 4.7424 - mae: 5.2191 - val_loss: 5.9539 - val_mae: 6.4373\n",
            "Epoch 46/100\n",
            "31/31 [==============================] - 1s 14ms/step - loss: 4.7974 - mae: 5.2741 - val_loss: 7.1947 - val_mae: 7.6807\n",
            "Epoch 47/100\n",
            "31/31 [==============================] - 1s 14ms/step - loss: 4.8814 - mae: 5.3587 - val_loss: 8.0671 - val_mae: 8.5576\n",
            "Epoch 48/100\n",
            "31/31 [==============================] - 1s 13ms/step - loss: 4.7885 - mae: 5.2675 - val_loss: 6.7871 - val_mae: 7.2707\n",
            "Epoch 49/100\n",
            "31/31 [==============================] - 1s 13ms/step - loss: 4.7076 - mae: 5.1850 - val_loss: 5.7474 - val_mae: 6.2285\n",
            "Epoch 50/100\n",
            "31/31 [==============================] - 0s 13ms/step - loss: 4.7103 - mae: 5.1842 - val_loss: 5.8143 - val_mae: 6.2965\n",
            "Epoch 51/100\n",
            "31/31 [==============================] - 1s 25ms/step - loss: 4.7085 - mae: 5.1817 - val_loss: 5.7653 - val_mae: 6.2487\n",
            "Epoch 52/100\n",
            "31/31 [==============================] - 1s 22ms/step - loss: 4.6711 - mae: 5.1466 - val_loss: 6.1232 - val_mae: 6.6038\n",
            "Epoch 53/100\n",
            "31/31 [==============================] - 1s 15ms/step - loss: 4.7138 - mae: 5.1868 - val_loss: 7.3292 - val_mae: 7.8136\n",
            "Epoch 54/100\n",
            "31/31 [==============================] - 1s 14ms/step - loss: 4.6829 - mae: 5.1560 - val_loss: 6.0682 - val_mae: 6.5480\n",
            "Epoch 55/100\n",
            "31/31 [==============================] - 1s 13ms/step - loss: 4.7739 - mae: 5.2475 - val_loss: 6.2262 - val_mae: 6.7028\n",
            "Epoch 56/100\n",
            "31/31 [==============================] - 1s 14ms/step - loss: 4.8094 - mae: 5.2890 - val_loss: 5.7434 - val_mae: 6.2276\n",
            "Epoch 57/100\n",
            "31/31 [==============================] - 0s 13ms/step - loss: 4.7095 - mae: 5.1854 - val_loss: 5.7560 - val_mae: 6.2405\n",
            "Epoch 58/100\n",
            "31/31 [==============================] - 1s 14ms/step - loss: 4.6308 - mae: 5.1098 - val_loss: 6.2524 - val_mae: 6.7298\n",
            "Epoch 59/100\n",
            "31/31 [==============================] - 0s 13ms/step - loss: 4.6698 - mae: 5.1450 - val_loss: 6.6381 - val_mae: 7.1233\n",
            "Epoch 60/100\n",
            "31/31 [==============================] - 1s 14ms/step - loss: 4.6755 - mae: 5.1503 - val_loss: 7.4007 - val_mae: 7.8885\n",
            "Epoch 61/100\n",
            "31/31 [==============================] - 1s 14ms/step - loss: 4.6866 - mae: 5.1635 - val_loss: 5.8084 - val_mae: 6.2928\n",
            "Epoch 62/100\n",
            "31/31 [==============================] - 0s 13ms/step - loss: 4.5931 - mae: 5.0687 - val_loss: 6.9962 - val_mae: 7.4762\n",
            "Epoch 63/100\n",
            "31/31 [==============================] - 1s 14ms/step - loss: 4.6380 - mae: 5.1110 - val_loss: 5.7958 - val_mae: 6.2807\n",
            "Epoch 64/100\n",
            "31/31 [==============================] - 1s 14ms/step - loss: 4.5720 - mae: 5.0462 - val_loss: 5.9619 - val_mae: 6.4411\n",
            "Epoch 65/100\n",
            "31/31 [==============================] - 1s 14ms/step - loss: 4.5747 - mae: 5.0540 - val_loss: 6.3218 - val_mae: 6.8016\n",
            "Epoch 66/100\n",
            "31/31 [==============================] - 0s 13ms/step - loss: 4.6318 - mae: 5.1088 - val_loss: 6.8235 - val_mae: 7.3057\n",
            "Epoch 67/100\n",
            "31/31 [==============================] - 1s 14ms/step - loss: 4.6272 - mae: 5.1014 - val_loss: 5.8116 - val_mae: 6.2958\n",
            "Epoch 68/100\n",
            "31/31 [==============================] - 0s 13ms/step - loss: 4.7417 - mae: 5.2156 - val_loss: 6.1670 - val_mae: 6.6466\n",
            "Epoch 69/100\n",
            "31/31 [==============================] - 1s 14ms/step - loss: 4.6384 - mae: 5.1138 - val_loss: 7.5799 - val_mae: 8.0709\n",
            "Epoch 70/100\n",
            "31/31 [==============================] - 1s 14ms/step - loss: 4.6147 - mae: 5.0902 - val_loss: 6.4599 - val_mae: 6.9409\n",
            "Epoch 71/100\n",
            "31/31 [==============================] - 1s 25ms/step - loss: 4.5807 - mae: 5.0534 - val_loss: 6.2636 - val_mae: 6.7418\n",
            "Epoch 72/100\n",
            "31/31 [==============================] - 1s 21ms/step - loss: 4.6246 - mae: 5.1038 - val_loss: 7.2369 - val_mae: 7.7228\n",
            "Epoch 73/100\n",
            "31/31 [==============================] - 1s 25ms/step - loss: 4.5974 - mae: 5.0717 - val_loss: 5.9079 - val_mae: 6.3858\n",
            "Epoch 74/100\n",
            "31/31 [==============================] - 1s 14ms/step - loss: 4.5851 - mae: 5.0565 - val_loss: 6.5753 - val_mae: 7.0573\n",
            "Epoch 75/100\n",
            "31/31 [==============================] - 1s 13ms/step - loss: 4.6535 - mae: 5.1289 - val_loss: 6.8438 - val_mae: 7.3270\n",
            "Epoch 76/100\n",
            "31/31 [==============================] - 1s 14ms/step - loss: 4.6792 - mae: 5.1577 - val_loss: 7.2862 - val_mae: 7.7754\n",
            "Epoch 77/100\n",
            "31/31 [==============================] - 1s 14ms/step - loss: 4.5762 - mae: 5.0514 - val_loss: 6.9099 - val_mae: 7.3937\n",
            "Epoch 78/100\n",
            "31/31 [==============================] - 1s 14ms/step - loss: 4.5733 - mae: 5.0484 - val_loss: 6.2215 - val_mae: 6.7012\n",
            "Epoch 79/100\n",
            "31/31 [==============================] - 1s 14ms/step - loss: 4.5514 - mae: 5.0243 - val_loss: 6.3983 - val_mae: 6.8815\n",
            "Epoch 80/100\n",
            "31/31 [==============================] - 1s 13ms/step - loss: 4.4939 - mae: 4.9663 - val_loss: 5.6136 - val_mae: 6.0962\n",
            "Epoch 81/100\n",
            "31/31 [==============================] - 1s 13ms/step - loss: 4.5195 - mae: 4.9926 - val_loss: 6.1336 - val_mae: 6.6115\n",
            "Epoch 82/100\n",
            "31/31 [==============================] - 1s 13ms/step - loss: 4.6704 - mae: 5.1426 - val_loss: 5.7650 - val_mae: 6.2474\n",
            "Epoch 83/100\n",
            "31/31 [==============================] - 1s 14ms/step - loss: 4.5972 - mae: 5.0728 - val_loss: 6.4670 - val_mae: 6.9505\n",
            "Epoch 84/100\n",
            "31/31 [==============================] - 1s 14ms/step - loss: 4.7096 - mae: 5.1892 - val_loss: 6.3498 - val_mae: 6.8301\n",
            "Epoch 85/100\n",
            "31/31 [==============================] - 1s 14ms/step - loss: 4.5263 - mae: 5.0065 - val_loss: 5.2861 - val_mae: 5.7603\n",
            "Epoch 86/100\n",
            "31/31 [==============================] - 1s 14ms/step - loss: 4.5337 - mae: 5.0089 - val_loss: 5.8305 - val_mae: 6.3096\n",
            "Epoch 87/100\n",
            "31/31 [==============================] - 1s 14ms/step - loss: 4.5451 - mae: 5.0217 - val_loss: 5.6633 - val_mae: 6.1457\n",
            "Epoch 88/100\n",
            "31/31 [==============================] - 1s 14ms/step - loss: 4.5483 - mae: 5.0191 - val_loss: 6.2932 - val_mae: 6.7763\n",
            "Epoch 89/100\n",
            "31/31 [==============================] - 1s 13ms/step - loss: 4.5457 - mae: 5.0224 - val_loss: 5.4037 - val_mae: 5.8838\n",
            "Epoch 90/100\n",
            "31/31 [==============================] - 1s 13ms/step - loss: 4.5905 - mae: 5.0740 - val_loss: 5.2766 - val_mae: 5.7509\n",
            "Epoch 91/100\n",
            "31/31 [==============================] - 0s 13ms/step - loss: 4.6210 - mae: 5.0958 - val_loss: 5.4285 - val_mae: 5.9084\n",
            "Epoch 92/100\n",
            "31/31 [==============================] - 1s 20ms/step - loss: 4.5765 - mae: 5.0508 - val_loss: 5.3702 - val_mae: 5.8501\n",
            "Epoch 93/100\n",
            "31/31 [==============================] - 1s 25ms/step - loss: 4.5156 - mae: 4.9931 - val_loss: 6.5300 - val_mae: 7.0113\n",
            "Epoch 94/100\n",
            "31/31 [==============================] - 1s 14ms/step - loss: 4.5104 - mae: 4.9870 - val_loss: 5.8752 - val_mae: 6.3536\n",
            "Epoch 95/100\n",
            "31/31 [==============================] - 1s 14ms/step - loss: 4.5400 - mae: 5.0141 - val_loss: 5.5086 - val_mae: 5.9918\n",
            "Epoch 96/100\n",
            "31/31 [==============================] - 1s 13ms/step - loss: 4.5248 - mae: 5.0016 - val_loss: 5.3991 - val_mae: 5.8791\n",
            "Epoch 97/100\n",
            "31/31 [==============================] - 1s 14ms/step - loss: 4.5167 - mae: 4.9910 - val_loss: 5.5202 - val_mae: 6.0036\n",
            "Epoch 98/100\n",
            "31/31 [==============================] - 1s 14ms/step - loss: 4.5130 - mae: 4.9895 - val_loss: 5.4895 - val_mae: 5.9733\n",
            "Epoch 99/100\n",
            "31/31 [==============================] - 1s 14ms/step - loss: 4.5257 - mae: 4.9997 - val_loss: 5.5660 - val_mae: 6.0457\n",
            "Epoch 100/100\n",
            "31/31 [==============================] - 0s 13ms/step - loss: 4.5786 - mae: 5.0496 - val_loss: 6.0703 - val_mae: 6.5469\n"
          ]
        }
      ],
      "source": [
        "# Reset states generated by Keras\n",
        "tf.keras.backend.clear_session()\n",
        "\n",
        "# Build the model\n",
        "model = tf.keras.models.Sequential([\n",
        "  tf.keras.layers.Lambda(lambda x: tf.expand_dims(x, axis=-1),\n",
        "                      input_shape=[None]),\n",
        "   tf.keras.layers.Bidirectional(tf.keras.layers.LSTM(32, return_sequences=True)),\n",
        "  tf.keras.layers.Bidirectional(tf.keras.layers.LSTM(32)),\n",
        "  tf.keras.layers.Dense(1),\n",
        "  tf.keras.layers.Lambda(lambda x: x * 100.0)\n",
        "])\n",
        "\n",
        "# Set the learning rate\n",
        "learning_rate = 2e-6\n",
        "\n",
        "# Set the optimizer \n",
        "optimizer = tf.keras.optimizers.SGD(learning_rate=learning_rate, momentum=0.9)\n",
        "\n",
        "# Set the training parameters\n",
        "model.compile(loss=tf.keras.losses.Huber(),\n",
        "              optimizer=optimizer,\n",
        "              metrics=[\"mae\"])\n",
        "\n",
        "# Train the model\n",
        "history = model.fit(dataset,epochs=100, validation_data=val_set)"
      ]
    }
  ],
  "metadata": {
    "accelerator": "GPU",
    "colab": {
      "provenance": []
    },
    "kernelspec": {
      "display_name": "Python 3",
      "language": "python",
      "name": "python3"
    },
    "language_info": {
      "codemirror_mode": {
        "name": "ipython",
        "version": 3
      },
      "file_extension": ".py",
      "mimetype": "text/x-python",
      "name": "python",
      "nbconvert_exporter": "python",
      "pygments_lexer": "ipython3",
      "version": "3.7.4"
    },
    "gpuClass": "standard"
  },
  "nbformat": 4,
  "nbformat_minor": 0
}