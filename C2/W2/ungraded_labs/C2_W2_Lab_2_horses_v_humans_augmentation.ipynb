{
 "cells": [
  {
   "cell_type": "markdown",
   "metadata": {},
   "source": [
    "<a href=\"https://colab.research.google.com/github/https-deeplearning-ai/tensorflow-1-public/blob/master/C2/W2/ungraded_labs/C2_W2_Lab_2_horses_v_humans_augmentation.ipynb\" target=\"_parent\"><img src=\"https://colab.research.google.com/assets/colab-badge.svg\" alt=\"Open In Colab\"/></a>"
   ]
  },
  {
   "cell_type": "markdown",
   "metadata": {
    "id": "37v_yExZppEp"
   },
   "source": [
    "# Ungraded Lab: Data Augmentation on the Horses or Humans Dataset\n",
    "\n",
    "In the previous lab, you saw how data augmentation helped improve the model's performance on unseen data. By tweaking the cat and dog training images, the model was able to learn features that are also representative of the validation data. However, applying data augmentation requires good understanding of your dataset. Simply transforming it randomly will not always yield good results. \n",
    "\n",
    "In the next cells, you will apply the same techniques to the `Horses or Humans` dataset and analyze the results."
   ]
  },
  {
   "cell_type": "code",
   "execution_count": null,
   "metadata": {
    "id": "Lslf0vB3rQlU"
   },
   "outputs": [],
   "source": [
    "# # Download the training set\n",
    "# !wget https://storage.googleapis.com/tensorflow-1-public/course2/week3/horse-or-human.zip"
   ]
  },
  {
   "cell_type": "code",
   "execution_count": null,
   "metadata": {},
   "outputs": [],
   "source": [
    "# # Download the validation set\n",
    "# !wget https://storage.googleapis.com/tensorflow-1-public/course2/week3/validation-horse-or-human.zip"
   ]
  },
  {
   "cell_type": "code",
   "execution_count": 1,
   "metadata": {
    "id": "RXZT2UsyIVe_"
   },
   "outputs": [],
   "source": [
    "import os\n",
    "import zipfile\n",
    "\n",
    "# # Extract the archive\n",
    "# zip_ref = zipfile.ZipFile('./horse-or-human.zip', 'r')\n",
    "# zip_ref.extractall('tmp/horse-or-human')\n",
    "\n",
    "# zip_ref = zipfile.ZipFile('./validation-horse-or-human.zip', 'r')\n",
    "# zip_ref.extractall('tmp/validation-horse-or-human')\n",
    "\n",
    "# zip_ref.close()\n",
    "\n",
    "# Directory with training horse pictures\n",
    "train_horse_dir = os.path.join(\"Z:/data/horse-or-human/horses\")\n",
    "\n",
    "# Directory with training human pictures\n",
    "train_human_dir = os.path.join(\"Z:/data/horse-or-human/humans\")\n",
    "\n",
    "# Directory with training horse pictures\n",
    "validation_horse_dir = os.path.join('Z:/data/validation-horse-or-human/horses')\n",
    "\n",
    "# Directory with training human pictures\n",
    "validation_human_dir = os.path.join('Z:/data/validation-horse-or-human/humans')"
   ]
  },
  {
   "cell_type": "code",
   "execution_count": 2,
   "metadata": {
    "id": "PixZ2s5QbYQ3"
   },
   "outputs": [],
   "source": [
    "import tensorflow as tf\n",
    "\n",
    "# Build the model\n",
    "model = tf.keras.models.Sequential([\n",
    "    # Note the input shape is the desired size of the image 300x300 with 3 bytes color\n",
    "    # This is the first convolution\n",
    "    tf.keras.layers.Conv2D(16, (3,3), activation='relu', input_shape=(300, 300, 3)),\n",
    "    tf.keras.layers.MaxPooling2D(2, 2),\n",
    "    # The second convolution\n",
    "    tf.keras.layers.Conv2D(32, (3,3), activation='relu'),\n",
    "    tf.keras.layers.MaxPooling2D(2,2),\n",
    "    # The third convolution\n",
    "    tf.keras.layers.Conv2D(64, (3,3), activation='relu'),\n",
    "    tf.keras.layers.MaxPooling2D(2,2),\n",
    "    # The fourth convolution\n",
    "    tf.keras.layers.Conv2D(64, (3,3), activation='relu'),\n",
    "    tf.keras.layers.MaxPooling2D(2,2),\n",
    "    # The fifth convolution\n",
    "    tf.keras.layers.Conv2D(64, (3,3), activation='relu'),\n",
    "    tf.keras.layers.MaxPooling2D(2,2),\n",
    "    # Flatten the results to feed into a DNN\n",
    "    tf.keras.layers.Flatten(),\n",
    "    # 512 neuron hidden layer\n",
    "    tf.keras.layers.Dense(512, activation='relu'),\n",
    "    # Only 1 output neuron. It will contain a value from 0-1 where 0 for 1 class ('horses') and 1 for the other ('humans')\n",
    "    tf.keras.layers.Dense(1, activation='sigmoid')\n",
    "])"
   ]
  },
  {
   "cell_type": "code",
   "execution_count": 3,
   "metadata": {
    "id": "8DHWhFP_uhq3"
   },
   "outputs": [],
   "source": [
    "from tensorflow.keras.optimizers import RMSprop\n",
    "\n",
    "# Set training parameters\n",
    "model.compile(loss='binary_crossentropy',\n",
    "              optimizer=RMSprop(learning_rate=1e-4),\n",
    "              metrics=['accuracy'])"
   ]
  },
  {
   "cell_type": "code",
   "execution_count": 5,
   "metadata": {
    "id": "ClebU9NJg99G"
   },
   "outputs": [
    {
     "name": "stdout",
     "output_type": "stream",
     "text": [
      "Found 1027 images belonging to 2 classes.\n",
      "Found 256 images belonging to 2 classes.\n"
     ]
    }
   ],
   "source": [
    "from tensorflow.keras.preprocessing.image import ImageDataGenerator\n",
    "\n",
    "# Apply data augmentation\n",
    "train_datagen = ImageDataGenerator(\n",
    "      rescale=1./255,\n",
    "      rotation_range=40,\n",
    "      width_shift_range=0.2,\n",
    "      height_shift_range=0.2,\n",
    "      shear_range=0.2,\n",
    "      zoom_range=0.2,\n",
    "      horizontal_flip=True,\n",
    "      fill_mode='nearest')\n",
    "\n",
    "validation_datagen = ImageDataGenerator(rescale=1/255)\n",
    "\n",
    "# Flow training images in batches of 128 using train_datagen generator\n",
    "train_generator = train_datagen.flow_from_directory(\n",
    "        \"Z:/data/horse-or-human/\",  # This is the source directory for training images\n",
    "        target_size=(300, 300),  # All images will be resized to 150x150\n",
    "        batch_size=128,\n",
    "        # Since we use binary_crossentropy loss, we need binary labels\n",
    "        class_mode='binary')\n",
    "\n",
    "# Flow training images in batches of 128 using train_datagen generator\n",
    "validation_generator = validation_datagen.flow_from_directory(\n",
    "        'Z:/data/validation-horse-or-human/',  # This is the source directory for training images\n",
    "        target_size=(300, 300),  # All images will be resized to 300x300\n",
    "        batch_size=32,\n",
    "        # Since we use binary_crossentropy loss, we need binary labels\n",
    "        class_mode='binary')"
   ]
  },
  {
   "cell_type": "code",
   "execution_count": 6,
   "metadata": {
    "id": "Fb1_lgobv81m"
   },
   "outputs": [
    {
     "name": "stdout",
     "output_type": "stream",
     "text": [
      "Epoch 1/20\n",
      "8/8 [==============================] - 185s 21s/step - loss: 0.6863 - accuracy: 0.5350 - val_loss: 0.6830 - val_accuracy: 0.5000\n",
      "Epoch 2/20\n",
      "8/8 [==============================] - 157s 18s/step - loss: 0.6881 - accuracy: 0.5295 - val_loss: 0.6890 - val_accuracy: 0.5000\n",
      "Epoch 3/20\n",
      "8/8 [==============================] - 148s 17s/step - loss: 0.6783 - accuracy: 0.5462 - val_loss: 0.6630 - val_accuracy: 0.6758\n",
      "Epoch 4/20\n",
      "8/8 [==============================] - 148s 17s/step - loss: 0.6694 - accuracy: 0.6329 - val_loss: 0.6698 - val_accuracy: 0.5000\n",
      "Epoch 5/20\n",
      "8/8 [==============================] - 148s 17s/step - loss: 0.6641 - accuracy: 0.6062 - val_loss: 0.6394 - val_accuracy: 0.6641\n",
      "Epoch 6/20\n",
      "8/8 [==============================] - 162s 19s/step - loss: 0.6418 - accuracy: 0.6674 - val_loss: 0.6141 - val_accuracy: 0.8750\n",
      "Epoch 7/20\n",
      "8/8 [==============================] - 140s 16s/step - loss: 0.6342 - accuracy: 0.6652 - val_loss: 0.6109 - val_accuracy: 0.6836\n",
      "Epoch 8/20\n",
      "8/8 [==============================] - 150s 17s/step - loss: 0.6184 - accuracy: 0.6768 - val_loss: 0.5764 - val_accuracy: 0.8555\n",
      "Epoch 9/20\n",
      "8/8 [==============================] - 162s 19s/step - loss: 0.5864 - accuracy: 0.7334 - val_loss: 0.8761 - val_accuracy: 0.5000\n",
      "Epoch 10/20\n",
      "8/8 [==============================] - 119s 17s/step - loss: 0.5844 - accuracy: 0.6974 - val_loss: 0.5906 - val_accuracy: 0.6172\n",
      "Epoch 11/20\n",
      "8/8 [==============================] - 161s 19s/step - loss: 0.5525 - accuracy: 0.7461 - val_loss: 0.5200 - val_accuracy: 0.7617\n",
      "Epoch 12/20\n",
      "8/8 [==============================] - 156s 18s/step - loss: 0.5670 - accuracy: 0.7019 - val_loss: 0.8376 - val_accuracy: 0.5000\n",
      "Epoch 13/20\n",
      "8/8 [==============================] - 155s 18s/step - loss: 0.5288 - accuracy: 0.7553 - val_loss: 0.6865 - val_accuracy: 0.5391\n",
      "Epoch 14/20\n",
      "8/8 [==============================] - 147s 17s/step - loss: 0.5247 - accuracy: 0.7586 - val_loss: 1.0542 - val_accuracy: 0.5000\n",
      "Epoch 15/20\n",
      "8/8 [==============================] - 157s 18s/step - loss: 0.5300 - accuracy: 0.7264 - val_loss: 0.5470 - val_accuracy: 0.6914\n",
      "Epoch 16/20\n",
      "8/8 [==============================] - 145s 17s/step - loss: 0.5148 - accuracy: 0.7575 - val_loss: 0.8092 - val_accuracy: 0.5312\n",
      "Epoch 17/20\n",
      "8/8 [==============================] - 95s 10s/step - loss: 0.4969 - accuracy: 0.7775 - val_loss: 0.6610 - val_accuracy: 0.6016\n",
      "Epoch 18/20\n",
      "8/8 [==============================] - 147s 17s/step - loss: 0.5190 - accuracy: 0.7464 - val_loss: 0.7406 - val_accuracy: 0.5742\n",
      "Epoch 19/20\n",
      "8/8 [==============================] - 101s 13s/step - loss: 0.4848 - accuracy: 0.7881 - val_loss: 0.7270 - val_accuracy: 0.5898\n",
      "Epoch 20/20\n",
      "8/8 [==============================] - 141s 16s/step - loss: 0.4902 - accuracy: 0.7631 - val_loss: 0.7415 - val_accuracy: 0.5938\n"
     ]
    }
   ],
   "source": [
    "# Constant for epochs\n",
    "EPOCHS = 20\n",
    "\n",
    "# Train the model\n",
    "history = model.fit(\n",
    "      train_generator,\n",
    "      steps_per_epoch=8,  \n",
    "      epochs=EPOCHS,\n",
    "      verbose=1,\n",
    "      validation_data = validation_generator,\n",
    "      validation_steps=8)"
   ]
  },
  {
   "cell_type": "code",
   "execution_count": 7,
   "metadata": {
    "id": "7zNPRWOVJdOH"
   },
   "outputs": [
    {
     "data": {
      "image/png": "[encoded data removed]",
      "text/plain": [
       "<Figure size 432x288 with 1 Axes>"
      ]
     },
     "metadata": {
      "needs_background": "light"
     },
     "output_type": "display_data"
    },
    {
     "data": {
      "image/png": "[encoded data removed]",
      "text/plain": [
       "<Figure size 432x288 with 1 Axes>"
      ]
     },
     "metadata": {
      "needs_background": "light"
     },
     "output_type": "display_data"
    }
   ],
   "source": [
    "import matplotlib.pyplot as plt\n",
    "\n",
    "# Plot the model results\n",
    "acc = history.history['accuracy']\n",
    "val_acc = history.history['val_accuracy']\n",
    "loss = history.history['loss']\n",
    "val_loss = history.history['val_loss']\n",
    "\n",
    "epochs = range(len(acc))\n",
    "\n",
    "plt.plot(epochs, acc, 'r', label='Training accuracy')\n",
    "plt.plot(epochs, val_acc, 'b', label='Validation accuracy')\n",
    "plt.title('Training and validation accuracy')\n",
    "\n",
    "plt.figure()\n",
    "\n",
    "plt.plot(epochs, loss, 'r', label='Training Loss')\n",
    "plt.plot(epochs, val_loss, 'b', label='Validation Loss')\n",
    "plt.title('Training and validation loss')\n",
    "plt.legend()\n",
    "\n",
    "plt.show()"
   ]
  },
  {
   "cell_type": "markdown",
   "metadata": {
    "id": "hwyabYvCsvtn"
   },
   "source": [
    "As you can see in the results, the preprocessing techniques used in augmenting the data did not help much in the results. The validation accuracy is fluctuating and not trending up like the training accuracy. This might be because the additional training data generated still do not represent the features in the validation data. For example, some human or horse poses in the validation set cannot be mimicked by the image processing techniques that `ImageDataGenerator` provides. It might also be that the background of the training images are also learned so the white background of the validation set is throwing the model off even with cropping. Try looking at the validation images in the `tmp/validation-horse-or-human` directory (note: if you are using Colab, you can use the file explorer on the left to explore the images) and see if you can augment the training images to match its characteristics. If this is not possible, then at this point you can consider other techniques and you will see that in next week's lessons."
   ]
  }
 ],
 "metadata": {
  "accelerator": "GPU",
  "colab": {
   "collapsed_sections": [],
   "name": "C2_W2_Lab_2_horses_v_humans_augmentation.ipynb",
   "private_outputs": true,
   "provenance": [
    {
     "file_id": "https://github.com/https-deeplearning-ai/tensorflow-1-public/blob/adding_C2/C2/W2/ungraded_labs/C2_W2_Lab_2_horses_v_humans_augmentation.ipynb",
     "timestamp": 1639648217641
    }
   ]
  },
  "kernelspec": {
   "display_name": "Python 3",
   "language": "python",
   "name": "python3"
  },
  "language_info": {
   "codemirror_mode": {
    "name": "ipython",
    "version": 3
   },
   "file_extension": ".py",
   "mimetype": "text/x-python",
   "name": "python",
   "nbconvert_exporter": "python",
   "pygments_lexer": "ipython3",
   "version": "3.8.3"
  }
 },
 "nbformat": 4,
 "nbformat_minor": 1
}
